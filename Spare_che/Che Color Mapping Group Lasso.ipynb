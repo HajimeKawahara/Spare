{
 "cells": [
  {
   "cell_type": "code",
   "execution_count": 55,
   "metadata": {},
   "outputs": [
    {
     "name": "stdout",
     "output_type": "stream",
     "text": [
      "The autoreload extension is already loaded. To reload it, use:\n",
      "  %reload_ext autoreload\n"
     ]
    }
   ],
   "source": [
    "%load_ext autoreload\n",
    "%autoreload 2\n",
    "%matplotlib inline\n",
    "import matplotlib.pyplot as plt\n",
    "import numpy as np\n",
    "import module\n",
    "import module_glasso\n",
    "from module_glasso import *\n",
    "import importlib\n",
    "importlib.reload(module_glasso)\n",
    "import readpng as rpng\n",
    "import colorvector"
   ]
  },
  {
   "cell_type": "code",
   "execution_count": 2,
   "metadata": {},
   "outputs": [],
   "source": [
    "img=rpng.get_img(\"./car.png\")"
   ]
  },
  {
   "cell_type": "code",
   "execution_count": 3,
   "metadata": {},
   "outputs": [
    {
     "data": {
      "text/plain": [
       "(366, 408, 3)"
      ]
     },
     "execution_count": 3,
     "metadata": {},
     "output_type": "execute_result"
    }
   ],
   "source": [
    "np.shape(img)"
   ]
  },
  {
   "cell_type": "code",
   "execution_count": 5,
   "metadata": {},
   "outputs": [
    {
     "data": {
      "text/plain": [
       "<matplotlib.image.AxesImage at 0x7f0cdb313470>"
      ]
     },
     "execution_count": 5,
     "metadata": {},
     "output_type": "execute_result"
    },
    {
     "data": {
      "image/png": "[encoded data removed]",
      "text/plain": [
       "<Figure size 432x288 with 1 Axes>"
      ]
     },
     "metadata": {
      "needs_background": "light"
     },
     "output_type": "display_data"
    }
   ],
   "source": [
    "fig=plt.figure()\n",
    "\n",
    "#timg=img[100:175,100:250]\n",
    "#timg=img[100:175:2,100:250:2]\n",
    "timg=img[::16,::16,:]\n",
    "plt.imshow(timg)"
   ]
  },
  {
   "cell_type": "code",
   "execution_count": 10,
   "metadata": {
    "lines_to_next_cell": 2
   },
   "outputs": [],
   "source": [
    "Nx, Ny, Nrgb = np.shape(timg)\n",
    "N_data = 100\n",
    "rand_now = module.random_generator(N_data, Nx, Ny)\n",
    "dRGB, g=rand_now.make_colordata(timg,20) \n",
    "g=np.array(g)"
   ]
  },
  {
   "cell_type": "code",
   "execution_count": 133,
   "metadata": {},
   "outputs": [],
   "source": [
    "rgbvec=colorvector.generate_palette(8)"
   ]
  },
  {
   "cell_type": "code",
   "execution_count": 134,
   "metadata": {},
   "outputs": [
    {
     "name": "stdout",
     "output_type": "stream",
     "text": [
      "100\n"
     ]
    }
   ],
   "source": [
    "Npal=np.shape(rgbvec)[0]\n",
    "print(Npal)"
   ]
  },
  {
   "cell_type": "code",
   "execution_count": 135,
   "metadata": {},
   "outputs": [],
   "source": [
    "I_init=np.ones((Nx,Ny,Npal))\n",
    "gall=np.einsum(\"ijk,cl->ijkcl\",g,rgbvec)\n",
    " #ijkcl\n"
   ]
  },
  {
   "cell_type": "code",
   "execution_count": 136,
   "metadata": {},
   "outputs": [
    {
     "name": "stdout",
     "output_type": "stream",
     "text": [
      "(100, 23, 26) (100, 3) (100, 3) (100, 23, 26, 100, 3) (23, 26, 100)\n"
     ]
    }
   ],
   "source": [
    "print(np.shape(g),np.shape(dRGB),np.shape(rgbvec),np.shape(gall),np.shape(I_init)) #(i, j, k), (i, l), (c, l),(ijkcl),(jkc)"
   ]
  },
  {
   "cell_type": "code",
   "execution_count": 137,
   "metadata": {
    "lines_to_next_cell": 2
   },
   "outputs": [
    {
     "name": "stdout",
     "output_type": "stream",
     "text": [
      "Current iteration: 0/10000,  L: 1890591.424713, cost: 56365482003.436340, cost_chiquare:145325999.778739\n",
      "Current iteration: 50/10000,  L: 1562472.251829, cost: 45504.130658, cost_chiquare:21134.405284\n",
      "Current iteration: 100/10000,  L: 1420429.319844, cost: 22203.748862, cost_chiquare:2006.392633\n",
      "Current iteration: 150/10000,  L: 1562472.251829, cost: 19495.431792, cost_chiquare:542.381138\n",
      "Current iteration: 200/10000,  L: 1562472.251829, cost: 17648.437367, cost_chiquare:133.458070\n",
      "Current iteration: 250/10000,  L: 1420429.319844, cost: 15872.383113, cost_chiquare:55.628918\n",
      "Current iteration: 300/10000,  L: 1562472.251829, cost: 13950.408734, cost_chiquare:34.860350\n",
      "Current iteration: 350/10000,  L: 1562472.251829, cost: 11929.221409, cost_chiquare:23.297208\n",
      "Current iteration: 400/10000,  L: 1562472.251829, cost: 9924.553016, cost_chiquare:18.446066\n",
      "Current iteration: 450/10000,  L: 1562472.251829, cost: 8031.042429, cost_chiquare:17.431463\n",
      "Current iteration: 500/10000,  L: 1420429.319844, cost: 6408.901644, cost_chiquare:20.300540\n",
      "Current iteration: 550/10000,  L: 1420429.319844, cost: 5027.919737, cost_chiquare:24.767172\n",
      "Current iteration: 600/10000,  L: 1420429.319844, cost: 4187.426184, cost_chiquare:29.334067\n",
      "Current iteration: 650/10000,  L: 1420429.319844, cost: 3786.378743, cost_chiquare:29.880904\n",
      "Current iteration: 700/10000,  L: 1420429.319844, cost: 3451.930183, cost_chiquare:28.167669\n",
      "Current iteration: 750/10000,  L: 1562472.251829, cost: 3210.215058, cost_chiquare:35.685209\n",
      "Current iteration: 800/10000,  L: 1562472.251829, cost: 3224.129685, cost_chiquare:41.946233\n",
      "Current iteration: 850/10000,  L: 1420429.319844, cost: 3128.445654, cost_chiquare:48.331875\n",
      "Current iteration: 900/10000,  L: 1420429.319844, cost: 3026.437082, cost_chiquare:44.914100\n",
      "Current iteration: 950/10000,  L: 1291299.381677, cost: 2931.991980, cost_chiquare:39.126696\n",
      "Current iteration: 1000/10000,  L: 1420429.319844, cost: 2915.497053, cost_chiquare:40.110185\n",
      "Current iteration: 1050/10000,  L: 1420429.319844, cost: 2907.273512, cost_chiquare:43.153235\n",
      "Current iteration: 1100/10000,  L: 1420429.319844, cost: 2868.280026, cost_chiquare:50.187492\n",
      "Current iteration: 1150/10000,  L: 1291299.381677, cost: 2781.040919, cost_chiquare:56.885458\n",
      "Current iteration: 1200/10000,  L: 1420429.319844, cost: 2753.786060, cost_chiquare:53.116745\n",
      "Current iteration: 1250/10000,  L: 1291299.381677, cost: 2770.996795, cost_chiquare:52.496685\n",
      "Current iteration: 1300/10000,  L: 1420429.319844, cost: 2769.095817, cost_chiquare:51.538053\n",
      "Current iteration: 1350/10000,  L: 1420429.319844, cost: 2758.105031, cost_chiquare:52.364624\n",
      "Current iteration: 1400/10000,  L: 1420429.319844, cost: 2747.180318, cost_chiquare:50.239625\n",
      "Current iteration: 1450/10000,  L: 1420429.319844, cost: 2726.906292, cost_chiquare:50.757520\n",
      "Current iteration: 1500/10000,  L: 1420429.319844, cost: 2711.329696, cost_chiquare:55.440683\n",
      "Current iteration: 1550/10000,  L: 1420429.319844, cost: 2699.573139, cost_chiquare:58.449555\n",
      "Current iteration: 1600/10000,  L: 1420429.319844, cost: 2688.938391, cost_chiquare:60.776990\n",
      "Current iteration: 1650/10000,  L: 1420429.319844, cost: 2688.626481, cost_chiquare:58.332500\n",
      "75.77970886230469 155.97414374351501 1.5910427570343018 SEC in total\n"
     ]
    }
   ],
   "source": [
    "yR = mfista_func(I_init, dRGB, gall, lambda_gl= 1e2, print_func=True)\n"
   ]
  },
  {
   "cell_type": "code",
   "execution_count": 138,
   "metadata": {},
   "outputs": [
    {
     "data": {
      "text/plain": [
       "(23, 26, 100)"
      ]
     },
     "execution_count": 138,
     "metadata": {},
     "output_type": "execute_result"
    }
   ],
   "source": [
    "np.shape(yR)"
   ]
  },
  {
   "cell_type": "code",
   "execution_count": 139,
   "metadata": {},
   "outputs": [
    {
     "name": "stdout",
     "output_type": "stream",
     "text": [
      "(23, 26, 100) (23, 26, 83)\n"
     ]
    }
   ],
   "source": [
    "crit=1.e-2\n",
    "mask=np.sum(yR[:,:,:],axis=(0,1))>crit\n",
    "ysel=yR[:,:,mask]\n",
    "print(np.shape(yR),np.shape(ysel))\n",
    "#for i in range(0,np.shape(yR)[2]):\n",
    "#    print(np.sum(yR[:,:,i]),np.std(yR[:,:,i]))\n",
    "\n",
    "#y=np.array([yR.T,yG.T,yB.T]).T\n",
    "#np.shape(y)"
   ]
  },
  {
   "cell_type": "code",
   "execution_count": 140,
   "metadata": {},
   "outputs": [],
   "source": [
    "ypredrgb=np.einsum(\"cl,jkc->jkl\",rgbvec[mask,:],ysel)"
   ]
  },
  {
   "cell_type": "code",
   "execution_count": 141,
   "metadata": {},
   "outputs": [
    {
     "data": {
      "text/plain": [
       "((100, 3), (23, 26, 3), (83, 3))"
      ]
     },
     "execution_count": 141,
     "metadata": {},
     "output_type": "execute_result"
    }
   ],
   "source": [
    "np.shape(Ipred),np.shape(ypredrgb),np.shape(rgbvec[mask,:])"
   ]
  },
  {
   "cell_type": "code",
   "execution_count": 142,
   "metadata": {},
   "outputs": [
    {
     "name": "stderr",
     "output_type": "stream",
     "text": [
      "Clipping input data to the valid range for imshow with RGB data ([0..1] for floats or [0..255] for integers).\n"
     ]
    },
    {
     "data": {
      "text/plain": [
       "<matplotlib.image.AxesImage at 0x7f0cbcf9e400>"
      ]
     },
     "execution_count": 142,
     "metadata": {},
     "output_type": "execute_result"
    },
    {
     "data": {
      "image/png": "[encoded data removed]",
      "text/plain": [
       "<Figure size 432x288 with 1 Axes>"
      ]
     },
     "metadata": {
      "needs_background": "light"
     },
     "output_type": "display_data"
    }
   ],
   "source": [
    "plt.imshow(ypredrgb)"
   ]
  },
  {
   "cell_type": "code",
   "execution_count": 143,
   "metadata": {},
   "outputs": [
    {
     "data": {
      "text/plain": [
       "(23, 26, 3)"
      ]
     },
     "execution_count": 143,
     "metadata": {},
     "output_type": "execute_result"
    }
   ],
   "source": [
    "np.shape(timg)"
   ]
  },
  {
   "cell_type": "markdown",
   "metadata": {},
   "source": [
    "install colour package\n",
    "pip install colour-science"
   ]
  },
  {
   "cell_type": "code",
   "execution_count": 144,
   "metadata": {},
   "outputs": [],
   "source": [
    "import colour \n",
    "from colour.plotting import *\n",
    "import itertools"
   ]
  },
  {
   "cell_type": "code",
   "execution_count": 145,
   "metadata": {},
   "outputs": [],
   "source": [
    "#line = np.linspace(0.0, 1.0, 15, endpoint=True)\n",
    "#rgb = np.array(list(itertools.product(line,line,line)), dtype=np.float)\n"
   ]
  },
  {
   "cell_type": "code",
   "execution_count": 146,
   "metadata": {},
   "outputs": [
    {
     "data": {
      "text/plain": [
       "(0.99380798999990649, 1.0)"
      ]
     },
     "execution_count": 146,
     "metadata": {},
     "output_type": "execute_result"
    }
   ],
   "source": [
    "np.shape(yi),np.shape(ti)\n",
    "np.max(yi),np.max(ti)"
   ]
  },
  {
   "cell_type": "code",
   "execution_count": 147,
   "metadata": {},
   "outputs": [
    {
     "data": {
      "image/png": "[encoded data removed]",
      "text/plain": [
       "<Figure size 720x360 with 2 Axes>"
      ]
     },
     "metadata": {
      "needs_background": "light"
     },
     "output_type": "display_data"
    }
   ],
   "source": [
    "#XYZからxyへ変換\n",
    "ti=timg.reshape(np.shape(timg)[0]*np.shape(timg)[1],3)\n",
    "XYZ = colour.sRGB_to_XYZ(ti)\n",
    "xy = colour.XYZ_to_xy(XYZ)\n",
    "\n",
    "#CIE_1931_chromaticity_diagram_colours_plot(bounding_box=(-0.1, 0.9, -0.1, 0.9), standalone=False)\n",
    "#plot_chromaticity_diagram_CIE1931(bounding_box=(0.15, 0.65, 0.15, 0.65), standalone=False)\n",
    "#sRGB領域へプロット\n",
    "#plt.plot(xy[:,0], xy[:,1], 'o', markersize=2, label=\"sRGB\",color=\"gray\",alpha=0.2)\n",
    "fig=plt.figure(figsize=(10,5))\n",
    "ax=fig.add_subplot(121,aspect=1.0)\n",
    "ax.scatter(xy[:,0], xy[:,1],facecolors=ti,alpha=1,s=2)\n",
    "ax.set_xlim(0.15,0.62)\n",
    "ax.set_ylim(0.2,0.62)\n",
    "ax.set_title(\"Original\")\n",
    "#plt.legend() \n",
    "\n",
    "yi=rgbvec[mask,:]\n",
    "XYZ = colour.sRGB_to_XYZ(yi)\n",
    "xy = colour.XYZ_to_xy(XYZ)\n",
    "yi[yi>1]=1.0\n",
    "yi[yi<0]=0\n",
    "\n",
    "\n",
    "yic=rgbvec[:,:]\n",
    "XYZc = colour.sRGB_to_XYZ(yic)\n",
    "xyc = colour.XYZ_to_xy(XYZc)\n",
    "yic[yic>1]=1.0\n",
    "yic[yic<0]=0\n",
    "\n",
    "ax=fig.add_subplot(122,aspect=1.0)\n",
    "ax.scatter(xy[:,0], xy[:,1],facecolors=yi,alpha=1,s=20,label=\"Selected\")\n",
    "ax.scatter(xyc[:,0], xyc[:,1],facecolors=yic,alpha=1,s=1,label=\"Pallet color\")\n",
    "plt.legend()\n",
    "ax.set_xlim(0.15,0.62)\n",
    "ax.set_ylim(0.2,0.62)\n",
    "ax.set_title(\"reconstruct\")\n",
    "display(standalone=True)"
   ]
  },
  {
   "cell_type": "code",
   "execution_count": null,
   "metadata": {},
   "outputs": [],
   "source": []
  }
 ],
 "metadata": {
  "jupytext": {
   "text_representation": {
    "extension": ".py",
    "format_name": "light",
    "format_version": "1.3",
    "jupytext_version": "0.8.5"
   }
  },
  "kernelspec": {
   "display_name": "Python 3",
   "language": "python",
   "name": "python3"
  },
  "language_info": {
   "codemirror_mode": {
    "name": "ipython",
    "version": 3
   },
   "file_extension": ".py",
   "mimetype": "text/x-python",
   "name": "python",
   "nbconvert_exporter": "python",
   "pygments_lexer": "ipython3",
   "version": "3.7.3"
  },
  "toc": {
   "colors": {
    "hover_highlight": "#DAA520",
    "navigate_num": "#000000",
    "navigate_text": "#333333",
    "running_highlight": "#FF0000",
    "selected_highlight": "#FFD700",
    "sidebar_border": "#EEEEEE",
    "wrapper_background": "#FFFFFF"
   },
   "moveMenuLeft": true,
   "nav_menu": {
    "height": "11px",
    "width": "251px"
   },
   "navigate_menu": true,
   "number_sections": true,
   "sideBar": true,
   "threshold": 4,
   "toc_cell": false,
   "toc_section_display": "block",
   "toc_window_display": false,
   "widenNotebook": false
  }
 },
 "nbformat": 4,
 "nbformat_minor": 2
}
