{
 "cells": [
  {
   "cell_type": "code",
   "execution_count": 1,
   "metadata": {},
   "outputs": [],
   "source": [
    "%load_ext autoreload\n",
    "%autoreload 2\n",
    "%matplotlib inline\n",
    "import matplotlib.pyplot as plt\n",
    "import numpy as np\n",
    "import module\n",
    "import cumodule_glasso\n",
    "from cumodule_glasso import *\n",
    "import importlib\n",
    "importlib.reload(cumodule_glasso)\n",
    "import readpng as rpng\n",
    "import colorvector"
   ]
  },
  {
   "cell_type": "code",
   "execution_count": 2,
   "metadata": {},
   "outputs": [],
   "source": [
    "img=rpng.get_img(\"./car.png\")"
   ]
  },
  {
   "cell_type": "code",
   "execution_count": 3,
   "metadata": {},
   "outputs": [
    {
     "data": {
      "text/plain": [
       "(366, 408, 3)"
      ]
     },
     "execution_count": 3,
     "metadata": {},
     "output_type": "execute_result"
    }
   ],
   "source": [
    "np.shape(img)"
   ]
  },
  {
   "cell_type": "code",
   "execution_count": 29,
   "metadata": {},
   "outputs": [
    {
     "data": {
      "text/plain": [
       "<matplotlib.image.AxesImage at 0x7f6fc0050ba8>"
      ]
     },
     "execution_count": 29,
     "metadata": {},
     "output_type": "execute_result"
    },
    {
     "data": {
      "image/png": "[encoded data removed]",
      "text/plain": [
       "<Figure size 432x288 with 1 Axes>"
      ]
     },
     "metadata": {
      "needs_background": "light"
     },
     "output_type": "display_data"
    }
   ],
   "source": [
    "fig=plt.figure()\n",
    "\n",
    "#timg=img[100:175,100:250]\n",
    "#timg=img[100:175:2,100:250:2]\n",
    "timg=img[::8,::8,:]\n",
    "plt.imshow(timg)"
   ]
  },
  {
   "cell_type": "code",
   "execution_count": 30,
   "metadata": {
    "lines_to_next_cell": 2
   },
   "outputs": [],
   "source": [
    "Nx, Ny, Nrgb = np.shape(timg)\n",
    "N_data = 100\n",
    "rand_now = module.random_generator(N_data, Nx, Ny)\n",
    "dRGB, g=rand_now.make_colordata(timg,20) \n",
    "g=np.array(g)"
   ]
  },
  {
   "cell_type": "code",
   "execution_count": 31,
   "metadata": {},
   "outputs": [],
   "source": [
    "rgbvec=colorvector.generate_palette(8)"
   ]
  },
  {
   "cell_type": "code",
   "execution_count": 32,
   "metadata": {},
   "outputs": [
    {
     "name": "stdout",
     "output_type": "stream",
     "text": [
      "100\n"
     ]
    }
   ],
   "source": [
    "Npal=np.shape(rgbvec)[0]\n",
    "print(Npal)"
   ]
  },
  {
   "cell_type": "code",
   "execution_count": 33,
   "metadata": {},
   "outputs": [],
   "source": [
    "I_init=np.ones((Nx,Ny,Npal))\n",
    "gall=np.einsum(\"ijk,cl->ijkcl\",g,rgbvec)\n",
    " #ijkcl\n"
   ]
  },
  {
   "cell_type": "code",
   "execution_count": 34,
   "metadata": {},
   "outputs": [
    {
     "name": "stdout",
     "output_type": "stream",
     "text": [
      "(100, 46, 51) (100, 3) (100, 3) (100, 46, 51, 100, 3) (46, 51, 100)\n"
     ]
    }
   ],
   "source": [
    "print(np.shape(g),np.shape(dRGB),np.shape(rgbvec),np.shape(gall),np.shape(I_init)) #(i, j, k), (i, l), (c, l),(ijkcl),(jkc)"
   ]
  },
  {
   "cell_type": "code",
   "execution_count": 35,
   "metadata": {
    "lines_to_next_cell": 2
   },
   "outputs": [
    {
     "name": "stdout",
     "output_type": "stream",
     "text": [
      "Current iteration: 0/10000,  L: 1067189.571634, cost: 111438077131.498306, cost_chiquare:1841372647.236722\n",
      "Current iteration: 50/10000,  L: 881974.852590, cost: 263636.681057, cost_chiquare:191618.879257\n",
      "Current iteration: 100/10000,  L: 801795.320536, cost: 72425.912627, cost_chiquare:15305.288515\n",
      "Current iteration: 150/10000,  L: 881974.852590, cost: 57539.401176, cost_chiquare:2988.901302\n",
      "Current iteration: 200/10000,  L: 881974.852590, cost: 53673.393068, cost_chiquare:1697.940167\n",
      "Current iteration: 250/10000,  L: 881974.852590, cost: 49082.479752, cost_chiquare:459.672763\n",
      "Current iteration: 300/10000,  L: 881974.852590, cost: 45001.627226, cost_chiquare:394.254723\n",
      "Current iteration: 350/10000,  L: 881974.852590, cost: 40054.948127, cost_chiquare:171.446501\n",
      "Current iteration: 400/10000,  L: 881974.852590, cost: 34547.785501, cost_chiquare:89.892693\n",
      "Current iteration: 450/10000,  L: 881974.852590, cost: 28451.928195, cost_chiquare:96.212724\n",
      "Current iteration: 500/10000,  L: 881974.852590, cost: 21783.428418, cost_chiquare:44.526644\n",
      "Current iteration: 550/10000,  L: 801795.320536, cost: 17082.158512, cost_chiquare:54.797636\n",
      "Current iteration: 600/10000,  L: 881974.852590, cost: 14140.733090, cost_chiquare:40.035200\n",
      "Current iteration: 650/10000,  L: 881974.852590, cost: 11713.882674, cost_chiquare:33.522359\n",
      "Current iteration: 700/10000,  L: 801795.320536, cost: 9865.876910, cost_chiquare:23.843224\n",
      "Current iteration: 750/10000,  L: 881974.852590, cost: 9299.934434, cost_chiquare:30.610325\n",
      "Current iteration: 800/10000,  L: 881974.852590, cost: 8749.857784, cost_chiquare:27.450496\n",
      "Current iteration: 850/10000,  L: 881974.852590, cost: 8108.635906, cost_chiquare:28.053398\n",
      "Current iteration: 900/10000,  L: 881974.852590, cost: 7663.069495, cost_chiquare:32.574917\n",
      "Current iteration: 950/10000,  L: 881974.852590, cost: 7560.279167, cost_chiquare:34.504982\n",
      "Current iteration: 1000/10000,  L: 881974.852590, cost: 7243.119499, cost_chiquare:33.281779\n",
      "Current iteration: 1050/10000,  L: 801795.320536, cost: 6905.699927, cost_chiquare:35.111549\n",
      "Current iteration: 1100/10000,  L: 801795.320536, cost: 6667.585071, cost_chiquare:38.464311\n",
      "Current iteration: 1150/10000,  L: 881974.852590, cost: 6627.645166, cost_chiquare:35.698150\n",
      "Current iteration: 1200/10000,  L: 881974.852590, cost: 6583.709410, cost_chiquare:32.723372\n",
      "Current iteration: 1250/10000,  L: 881974.852590, cost: 6393.399332, cost_chiquare:35.501284\n",
      "Current iteration: 1300/10000,  L: 881974.852590, cost: 6199.655716, cost_chiquare:40.210612\n",
      "Current iteration: 1350/10000,  L: 881974.852590, cost: 6030.277871, cost_chiquare:42.871610\n",
      "Current iteration: 1400/10000,  L: 881974.852590, cost: 5968.397841, cost_chiquare:45.777669\n",
      "Current iteration: 1450/10000,  L: 881974.852590, cost: 6003.266539, cost_chiquare:45.595653\n",
      "Current iteration: 1500/10000,  L: 881974.852590, cost: 6015.761520, cost_chiquare:42.453256\n",
      "Current iteration: 1550/10000,  L: 881974.852590, cost: 5965.080628, cost_chiquare:43.067044\n",
      "Current iteration: 1600/10000,  L: 881974.852590, cost: 5927.161191, cost_chiquare:43.363360\n",
      "Current iteration: 1650/10000,  L: 881974.852590, cost: 5831.299908, cost_chiquare:42.079234\n",
      "Current iteration: 1700/10000,  L: 881974.852590, cost: 5816.938033, cost_chiquare:43.453693\n",
      "Current iteration: 1750/10000,  L: 881974.852590, cost: 5766.475813, cost_chiquare:45.061745\n",
      "Current iteration: 1800/10000,  L: 881974.852590, cost: 5723.046453, cost_chiquare:49.605179\n",
      "Current iteration: 1850/10000,  L: 881974.852590, cost: 5736.638346, cost_chiquare:54.751625\n",
      "Current iteration: 1900/10000,  L: 881974.852590, cost: 5751.712223, cost_chiquare:53.373473\n",
      "Current iteration: 1950/10000,  L: 881974.852590, cost: 5755.814213, cost_chiquare:51.373357\n",
      "Current iteration: 2000/10000,  L: 881974.852590, cost: 5731.624414, cost_chiquare:51.259406\n",
      "Current iteration: 2050/10000,  L: 881974.852590, cost: 5696.735941, cost_chiquare:51.513766\n",
      "Current iteration: 2100/10000,  L: 801795.320536, cost: 5656.469129, cost_chiquare:53.801085\n",
      "Current iteration: 2150/10000,  L: 881974.852590, cost: 5651.334861, cost_chiquare:55.946853\n",
      "Current iteration: 2200/10000,  L: 881974.852590, cost: 5658.293194, cost_chiquare:59.300500\n",
      "Current iteration: 2250/10000,  L: 881974.852590, cost: 5652.728762, cost_chiquare:62.838330\n",
      "1.9907193183898926 317.28840684890747 37.200053453445435 SEC in total\n"
     ]
    }
   ],
   "source": [
    "yR = mfista_func(I_init, dRGB, gall, lambda_gl= 1e2, print_func=True)\n"
   ]
  },
  {
   "cell_type": "code",
   "execution_count": 36,
   "metadata": {},
   "outputs": [
    {
     "data": {
      "text/plain": [
       "(46, 51, 100)"
      ]
     },
     "execution_count": 36,
     "metadata": {},
     "output_type": "execute_result"
    }
   ],
   "source": [
    "np.shape(yR)"
   ]
  },
  {
   "cell_type": "code",
   "execution_count": 37,
   "metadata": {},
   "outputs": [
    {
     "name": "stdout",
     "output_type": "stream",
     "text": [
      "(46, 51, 100) (46, 51, 100)\n"
     ]
    }
   ],
   "source": [
    "crit=1.e-2\n",
    "mask=np.sum(yR[:,:,:],axis=(0,1))>crit\n",
    "ysel=yR[:,:,mask]\n",
    "print(np.shape(yR),np.shape(ysel))\n",
    "#for i in range(0,np.shape(yR)[2]):\n",
    "#    print(np.sum(yR[:,:,i]),np.std(yR[:,:,i]))\n",
    "\n",
    "#y=np.array([yR.T,yG.T,yB.T]).T\n",
    "#np.shape(y)"
   ]
  },
  {
   "cell_type": "code",
   "execution_count": 38,
   "metadata": {},
   "outputs": [],
   "source": [
    "ypredrgb=np.einsum(\"cl,jkc->jkl\",rgbvec[mask,:],ysel)"
   ]
  },
  {
   "cell_type": "code",
   "execution_count": 39,
   "metadata": {},
   "outputs": [
    {
     "ename": "NameError",
     "evalue": "name 'Ipred' is not defined",
     "output_type": "error",
     "traceback": [
      "\u001b[0;31m---------------------------------------------------------------------------\u001b[0m",
      "\u001b[0;31mNameError\u001b[0m                                 Traceback (most recent call last)",
      "\u001b[0;32m<ipython-input-39-7c43a37e0ea8>\u001b[0m in \u001b[0;36m<module>\u001b[0;34m\u001b[0m\n\u001b[0;32m----> 1\u001b[0;31m \u001b[0mnp\u001b[0m\u001b[0;34m.\u001b[0m\u001b[0mshape\u001b[0m\u001b[0;34m(\u001b[0m\u001b[0mIpred\u001b[0m\u001b[0;34m)\u001b[0m\u001b[0;34m,\u001b[0m\u001b[0mnp\u001b[0m\u001b[0;34m.\u001b[0m\u001b[0mshape\u001b[0m\u001b[0;34m(\u001b[0m\u001b[0mypredrgb\u001b[0m\u001b[0;34m)\u001b[0m\u001b[0;34m,\u001b[0m\u001b[0mnp\u001b[0m\u001b[0;34m.\u001b[0m\u001b[0mshape\u001b[0m\u001b[0;34m(\u001b[0m\u001b[0mrgbvec\u001b[0m\u001b[0;34m[\u001b[0m\u001b[0mmask\u001b[0m\u001b[0;34m,\u001b[0m\u001b[0;34m:\u001b[0m\u001b[0;34m]\u001b[0m\u001b[0;34m)\u001b[0m\u001b[0;34m\u001b[0m\u001b[0;34m\u001b[0m\u001b[0m\n\u001b[0m",
      "\u001b[0;31mNameError\u001b[0m: name 'Ipred' is not defined"
     ]
    }
   ],
   "source": [
    "np.shape(Ipred),np.shape(ypredrgb),np.shape(rgbvec[mask,:])"
   ]
  },
  {
   "cell_type": "code",
   "execution_count": 40,
   "metadata": {},
   "outputs": [
    {
     "name": "stderr",
     "output_type": "stream",
     "text": [
      "Clipping input data to the valid range for imshow with RGB data ([0..1] for floats or [0..255] for integers).\n"
     ]
    },
    {
     "data": {
      "text/plain": [
       "<matplotlib.image.AxesImage at 0x7f6fa7fac358>"
      ]
     },
     "execution_count": 40,
     "metadata": {},
     "output_type": "execute_result"
    },
    {
     "data": {
      "image/png": "[encoded data removed]",
      "text/plain": [
       "<Figure size 432x288 with 1 Axes>"
      ]
     },
     "metadata": {
      "needs_background": "light"
     },
     "output_type": "display_data"
    }
   ],
   "source": [
    "plt.imshow(ypredrgb)"
   ]
  },
  {
   "cell_type": "code",
   "execution_count": 41,
   "metadata": {},
   "outputs": [
    {
     "data": {
      "text/plain": [
       "(46, 51, 3)"
      ]
     },
     "execution_count": 41,
     "metadata": {},
     "output_type": "execute_result"
    }
   ],
   "source": [
    "np.shape(timg)"
   ]
  },
  {
   "cell_type": "markdown",
   "metadata": {},
   "source": [
    "install colour package\n",
    "pip install colour-science"
   ]
  },
  {
   "cell_type": "code",
   "execution_count": 42,
   "metadata": {},
   "outputs": [],
   "source": [
    "import colour \n",
    "from colour.plotting import *\n",
    "import itertools"
   ]
  },
  {
   "cell_type": "code",
   "execution_count": 43,
   "metadata": {},
   "outputs": [],
   "source": [
    "#line = np.linspace(0.0, 1.0, 15, endpoint=True)\n",
    "#rgb = np.array(list(itertools.product(line,line,line)), dtype=np.float)\n"
   ]
  },
  {
   "cell_type": "code",
   "execution_count": 44,
   "metadata": {},
   "outputs": [
    {
     "data": {
      "text/plain": [
       "(0.99652172859178312, 1.0)"
      ]
     },
     "execution_count": 44,
     "metadata": {},
     "output_type": "execute_result"
    }
   ],
   "source": [
    "np.shape(yi),np.shape(ti)\n",
    "np.max(yi),np.max(ti)"
   ]
  },
  {
   "cell_type": "code",
   "execution_count": 45,
   "metadata": {},
   "outputs": [
    {
     "data": {
      "image/png": "[encoded data removed]",
      "text/plain": [
       "<Figure size 720x360 with 2 Axes>"
      ]
     },
     "metadata": {
      "needs_background": "light"
     },
     "output_type": "display_data"
    }
   ],
   "source": [
    "#XYZからxyへ変換\n",
    "ti=timg.reshape(np.shape(timg)[0]*np.shape(timg)[1],3)\n",
    "XYZ = colour.sRGB_to_XYZ(ti)\n",
    "xy = colour.XYZ_to_xy(XYZ)\n",
    "\n",
    "#CIE_1931_chromaticity_diagram_colours_plot(bounding_box=(-0.1, 0.9, -0.1, 0.9), standalone=False)\n",
    "#plot_chromaticity_diagram_CIE1931(bounding_box=(0.15, 0.65, 0.15, 0.65), standalone=False)\n",
    "#sRGB領域へプロット\n",
    "#plt.plot(xy[:,0], xy[:,1], 'o', markersize=2, label=\"sRGB\",color=\"gray\",alpha=0.2)\n",
    "fig=plt.figure(figsize=(10,5))\n",
    "ax=fig.add_subplot(121,aspect=1.0)\n",
    "ax.scatter(xy[:,0], xy[:,1],facecolors=ti,alpha=1,s=2)\n",
    "ax.set_xlim(0.15,0.62)\n",
    "ax.set_ylim(0.2,0.62)\n",
    "ax.set_title(\"Original\")\n",
    "#plt.legend() \n",
    "\n",
    "yi=rgbvec[mask,:]\n",
    "XYZ = colour.sRGB_to_XYZ(yi)\n",
    "xy = colour.XYZ_to_xy(XYZ)\n",
    "yi[yi>1]=1.0\n",
    "yi[yi<0]=0\n",
    "\n",
    "\n",
    "yic=rgbvec[:,:]\n",
    "XYZc = colour.sRGB_to_XYZ(yic)\n",
    "xyc = colour.XYZ_to_xy(XYZc)\n",
    "yic[yic>1]=1.0\n",
    "yic[yic<0]=0\n",
    "\n",
    "ax=fig.add_subplot(122,aspect=1.0)\n",
    "ax.scatter(xy[:,0], xy[:,1],facecolors=yi,alpha=1,s=20,label=\"Selected\")\n",
    "ax.scatter(xyc[:,0], xyc[:,1],facecolors=yic,alpha=1,s=1,label=\"Pallet color\")\n",
    "plt.legend()\n",
    "ax.set_xlim(0.15,0.62)\n",
    "ax.set_ylim(0.2,0.62)\n",
    "ax.set_title(\"reconstruct\")\n",
    "display(standalone=True)"
   ]
  },
  {
   "cell_type": "code",
   "execution_count": null,
   "metadata": {},
   "outputs": [],
   "source": []
  }
 ],
 "metadata": {
  "jupytext": {
   "text_representation": {
    "extension": ".py",
    "format_name": "light",
    "format_version": "1.3",
    "jupytext_version": "0.8.5"
   }
  },
  "kernelspec": {
   "display_name": "Python 3",
   "language": "python",
   "name": "python3"
  },
  "language_info": {
   "codemirror_mode": {
    "name": "ipython",
    "version": 3
   },
   "file_extension": ".py",
   "mimetype": "text/x-python",
   "name": "python",
   "nbconvert_exporter": "python",
   "pygments_lexer": "ipython3",
   "version": "3.7.3"
  },
  "toc": {
   "colors": {
    "hover_highlight": "#DAA520",
    "navigate_num": "#000000",
    "navigate_text": "#333333",
    "running_highlight": "#FF0000",
    "selected_highlight": "#FFD700",
    "sidebar_border": "#EEEEEE",
    "wrapper_background": "#FFFFFF"
   },
   "moveMenuLeft": true,
   "nav_menu": {
    "height": "11px",
    "width": "251px"
   },
   "navigate_menu": true,
   "number_sections": true,
   "sideBar": true,
   "threshold": 4,
   "toc_cell": false,
   "toc_section_display": "block",
   "toc_window_display": false,
   "widenNotebook": false
  }
 },
 "nbformat": 4,
 "nbformat_minor": 2
}
