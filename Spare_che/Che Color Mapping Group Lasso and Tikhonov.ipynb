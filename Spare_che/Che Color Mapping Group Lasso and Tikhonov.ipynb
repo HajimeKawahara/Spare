{
 "cells": [
  {
   "cell_type": "code",
   "execution_count": 1,
   "metadata": {},
   "outputs": [],
   "source": [
    "%load_ext autoreload\n",
    "%autoreload 2\n",
    "%matplotlib inline\n",
    "import matplotlib.pyplot as plt\n",
    "import numpy as np\n",
    "import module\n",
    "import module_glassoL2\n",
    "from module_glassoL2 import *\n",
    "import importlib\n",
    "importlib.reload(module_glassoL2)\n",
    "import readpng as rpng\n",
    "import colorvector"
   ]
  },
  {
   "cell_type": "code",
   "execution_count": 2,
   "metadata": {},
   "outputs": [],
   "source": [
    "img=rpng.get_img(\"./car.png\")"
   ]
  },
  {
   "cell_type": "code",
   "execution_count": 3,
   "metadata": {},
   "outputs": [
    {
     "data": {
      "text/plain": [
       "(366, 408, 3)"
      ]
     },
     "execution_count": 3,
     "metadata": {},
     "output_type": "execute_result"
    }
   ],
   "source": [
    "np.shape(img)"
   ]
  },
  {
   "cell_type": "code",
   "execution_count": 4,
   "metadata": {},
   "outputs": [
    {
     "data": {
      "text/plain": [
       "<matplotlib.image.AxesImage at 0x7f4516de0828>"
      ]
     },
     "execution_count": 4,
     "metadata": {},
     "output_type": "execute_result"
    },
    {
     "data": {
      "image/png": "[encoded data removed]",
      "text/plain": [
       "<Figure size 432x288 with 1 Axes>"
      ]
     },
     "metadata": {
      "needs_background": "light"
     },
     "output_type": "display_data"
    }
   ],
   "source": [
    "fig=plt.figure()\n",
    "\n",
    "#timg=img[100:175,100:250]\n",
    "#timg=img[100:175:2,100:250:2]\n",
    "timg=img[::16,::16,:]\n",
    "plt.imshow(timg)"
   ]
  },
  {
   "cell_type": "code",
   "execution_count": 5,
   "metadata": {
    "lines_to_next_cell": 2
   },
   "outputs": [],
   "source": [
    "Nx, Ny, Nrgb = np.shape(timg)\n",
    "N_data = 100\n",
    "rand_now = module.random_generator(N_data, Nx, Ny)\n",
    "dRGB, g=rand_now.make_colordata(timg,20) \n",
    "g=np.array(g)"
   ]
  },
  {
   "cell_type": "code",
   "execution_count": 6,
   "metadata": {},
   "outputs": [],
   "source": [
    "rgbvec=colorvector.generate_palette(8)"
   ]
  },
  {
   "cell_type": "code",
   "execution_count": 7,
   "metadata": {},
   "outputs": [
    {
     "name": "stdout",
     "output_type": "stream",
     "text": [
      "100\n"
     ]
    }
   ],
   "source": [
    "Npal=np.shape(rgbvec)[0]\n",
    "print(Npal)"
   ]
  },
  {
   "cell_type": "code",
   "execution_count": 8,
   "metadata": {},
   "outputs": [],
   "source": [
    "I_init=np.ones((Nx,Ny,Npal))\n",
    "gall=np.einsum(\"ijk,cl->ijkcl\",g,rgbvec)\n",
    " #ijkcl\n"
   ]
  },
  {
   "cell_type": "code",
   "execution_count": 9,
   "metadata": {},
   "outputs": [
    {
     "name": "stdout",
     "output_type": "stream",
     "text": [
      "(100, 23, 26) (100, 3) (100, 3) (100, 23, 26, 100, 3) (23, 26, 100)\n"
     ]
    }
   ],
   "source": [
    "print(np.shape(g),np.shape(dRGB),np.shape(rgbvec),np.shape(gall),np.shape(I_init)) #(i, j, k), (i, l), (c, l),(ijkcl),(jkc)"
   ]
  },
  {
   "cell_type": "code",
   "execution_count": 66,
   "metadata": {
    "lines_to_next_cell": 2
   },
   "outputs": [
    {
     "name": "stdout",
     "output_type": "stream",
     "text": [
      "Current iteration: 0/10000,  L: 1718719.477012, cost: 51542011944.215622, cost_chiquare:98836473.593249\n"
     ]
    },
    {
     "ename": "KeyboardInterrupt",
     "evalue": "",
     "output_type": "error",
     "traceback": [
      "\u001b[0;31m---------------------------------------------------------------------------\u001b[0m",
      "\u001b[0;31mKeyboardInterrupt\u001b[0m                         Traceback (most recent call last)",
      "\u001b[0;32m<ipython-input-66-9bfb737b1b65>\u001b[0m in \u001b[0;36m<module>\u001b[0;34m\u001b[0m\n\u001b[0;32m----> 1\u001b[0;31m \u001b[0myR\u001b[0m \u001b[0;34m=\u001b[0m \u001b[0mmfista_func\u001b[0m\u001b[0;34m(\u001b[0m\u001b[0mI_init\u001b[0m\u001b[0;34m,\u001b[0m \u001b[0mdRGB\u001b[0m\u001b[0;34m,\u001b[0m \u001b[0mgall\u001b[0m\u001b[0;34m,\u001b[0m \u001b[0mlambda_gl\u001b[0m\u001b[0;34m=\u001b[0m \u001b[0;36m1e-4\u001b[0m\u001b[0;34m,\u001b[0m \u001b[0mlambda_tik\u001b[0m \u001b[0;34m=\u001b[0m\u001b[0;36m1e0\u001b[0m\u001b[0;34m,\u001b[0m \u001b[0mprint_func\u001b[0m\u001b[0;34m=\u001b[0m\u001b[0;32mTrue\u001b[0m\u001b[0;34m)\u001b[0m\u001b[0;34m\u001b[0m\u001b[0;34m\u001b[0m\u001b[0m\n\u001b[0m",
      "\u001b[0;32m~/exomap/Spare/Spare_che/module_glassoL2.py\u001b[0m in \u001b[0;36mmfista_func\u001b[0;34m(I_init, d, A_ten, lambda_gl, lambda_tik, L_init, eta, maxiter, max_iter2, miniter, TD, eps, print_func)\u001b[0m\n\u001b[1;32m     65\u001b[0m \u001b[0;34m\u001b[0m\u001b[0m\n\u001b[1;32m     66\u001b[0m         \u001b[0;31m##df_dx(y)\u001b[0m\u001b[0;34m\u001b[0m\u001b[0;34m\u001b[0m\u001b[0;34m\u001b[0m\u001b[0m\n\u001b[0;32m---> 67\u001b[0;31m         \u001b[0mdf_dx_now\u001b[0m \u001b[0;34m=\u001b[0m \u001b[0mdF_dx\u001b[0m\u001b[0;34m(\u001b[0m\u001b[0md\u001b[0m\u001b[0;34m,\u001b[0m\u001b[0mA_ten\u001b[0m\u001b[0;34m,\u001b[0m \u001b[0my\u001b[0m\u001b[0;34m,\u001b[0m\u001b[0mlambda_tik\u001b[0m\u001b[0;34m)\u001b[0m\u001b[0;34m\u001b[0m\u001b[0;34m\u001b[0m\u001b[0m\n\u001b[0m\u001b[1;32m     68\u001b[0m \u001b[0;34m\u001b[0m\u001b[0m\n\u001b[1;32m     69\u001b[0m         \u001b[0;31m## Loop to estimate Lifshitz constant (L)\u001b[0m\u001b[0;34m\u001b[0m\u001b[0;34m\u001b[0m\u001b[0;34m\u001b[0m\u001b[0m\n",
      "\u001b[0;32m~/exomap/Spare/Spare_che/module_glassoL2.py\u001b[0m in \u001b[0;36mdF_dx\u001b[0;34m(data, A, x_d, lambda_tik)\u001b[0m\n\u001b[1;32m     14\u001b[0m \u001b[0;32mdef\u001b[0m \u001b[0mdF_dx\u001b[0m\u001b[0;34m(\u001b[0m\u001b[0mdata\u001b[0m\u001b[0;34m,\u001b[0m \u001b[0mA\u001b[0m\u001b[0;34m,\u001b[0m \u001b[0mx_d\u001b[0m\u001b[0;34m,\u001b[0m \u001b[0mlambda_tik\u001b[0m\u001b[0;34m)\u001b[0m\u001b[0;34m:\u001b[0m\u001b[0;34m\u001b[0m\u001b[0;34m\u001b[0m\u001b[0m\n\u001b[1;32m     15\u001b[0m     \u001b[0mdata_dif\u001b[0m \u001b[0;34m=\u001b[0m \u001b[0;34m-\u001b[0m\u001b[0;34m(\u001b[0m\u001b[0mdata\u001b[0m \u001b[0;34m-\u001b[0m \u001b[0mnp\u001b[0m\u001b[0;34m.\u001b[0m\u001b[0meinsum\u001b[0m\u001b[0;34m(\u001b[0m\u001b[0;34m\"ijkcl,jkc->il\"\u001b[0m\u001b[0;34m,\u001b[0m \u001b[0mA\u001b[0m\u001b[0;34m,\u001b[0m \u001b[0mx_d\u001b[0m\u001b[0;34m)\u001b[0m\u001b[0;34m)\u001b[0m\u001b[0;34m\u001b[0m\u001b[0;34m\u001b[0m\u001b[0m\n\u001b[0;32m---> 16\u001b[0;31m     \u001b[0;32mreturn\u001b[0m \u001b[0mnp\u001b[0m\u001b[0;34m.\u001b[0m\u001b[0meinsum\u001b[0m\u001b[0;34m(\u001b[0m\u001b[0;34m\"ijkcl,il->jkc\"\u001b[0m\u001b[0;34m,\u001b[0m \u001b[0mA\u001b[0m\u001b[0;34m,\u001b[0m \u001b[0mdata_dif\u001b[0m\u001b[0;34m)\u001b[0m \u001b[0;34m+\u001b[0m \u001b[0;36m2.0\u001b[0m\u001b[0;34m*\u001b[0m\u001b[0mlambda_tik\u001b[0m\u001b[0;34m*\u001b[0m\u001b[0mx_d\u001b[0m\u001b[0;34m\u001b[0m\u001b[0;34m\u001b[0m\u001b[0m\n\u001b[0m\u001b[1;32m     17\u001b[0m \u001b[0;34m\u001b[0m\u001b[0m\n\u001b[1;32m     18\u001b[0m \u001b[0;32mdef\u001b[0m \u001b[0mF_likeL2\u001b[0m\u001b[0;34m(\u001b[0m\u001b[0mdata\u001b[0m\u001b[0;34m,\u001b[0m \u001b[0mA\u001b[0m\u001b[0;34m,\u001b[0m  \u001b[0mx_d\u001b[0m\u001b[0;34m,\u001b[0m \u001b[0mlambda_tik\u001b[0m\u001b[0;34m)\u001b[0m\u001b[0;34m:\u001b[0m\u001b[0;34m\u001b[0m\u001b[0;34m\u001b[0m\u001b[0m\n",
      "\u001b[0;32m~/anaconda3/lib/python3.7/site-packages/numpy/core/einsumfunc.py\u001b[0m in \u001b[0;36meinsum\u001b[0;34m(*operands, **kwargs)\u001b[0m\n\u001b[1;32m   1344\u001b[0m     \u001b[0;31m# If no optimization, run pure einsum\u001b[0m\u001b[0;34m\u001b[0m\u001b[0;34m\u001b[0m\u001b[0;34m\u001b[0m\u001b[0m\n\u001b[1;32m   1345\u001b[0m     \u001b[0;32mif\u001b[0m \u001b[0moptimize_arg\u001b[0m \u001b[0;32mis\u001b[0m \u001b[0;32mFalse\u001b[0m\u001b[0;34m:\u001b[0m\u001b[0;34m\u001b[0m\u001b[0;34m\u001b[0m\u001b[0m\n\u001b[0;32m-> 1346\u001b[0;31m         \u001b[0;32mreturn\u001b[0m \u001b[0mc_einsum\u001b[0m\u001b[0;34m(\u001b[0m\u001b[0;34m*\u001b[0m\u001b[0moperands\u001b[0m\u001b[0;34m,\u001b[0m \u001b[0;34m**\u001b[0m\u001b[0mkwargs\u001b[0m\u001b[0;34m)\u001b[0m\u001b[0;34m\u001b[0m\u001b[0;34m\u001b[0m\u001b[0m\n\u001b[0m\u001b[1;32m   1347\u001b[0m \u001b[0;34m\u001b[0m\u001b[0m\n\u001b[1;32m   1348\u001b[0m     \u001b[0mvalid_einsum_kwargs\u001b[0m \u001b[0;34m=\u001b[0m \u001b[0;34m[\u001b[0m\u001b[0;34m'out'\u001b[0m\u001b[0;34m,\u001b[0m \u001b[0;34m'dtype'\u001b[0m\u001b[0;34m,\u001b[0m \u001b[0;34m'order'\u001b[0m\u001b[0;34m,\u001b[0m \u001b[0;34m'casting'\u001b[0m\u001b[0;34m]\u001b[0m\u001b[0;34m\u001b[0m\u001b[0;34m\u001b[0m\u001b[0m\n",
      "\u001b[0;31mKeyboardInterrupt\u001b[0m: "
     ]
    }
   ],
   "source": [
    "yR = mfista_func(I_init, dRGB, gall, lambda_gl= 1e-4, lambda_tik =1e0, print_func=True)\n"
   ]
  },
  {
   "cell_type": "code",
   "execution_count": 61,
   "metadata": {},
   "outputs": [
    {
     "data": {
      "text/plain": [
       "(23, 26, 100)"
      ]
     },
     "execution_count": 61,
     "metadata": {},
     "output_type": "execute_result"
    }
   ],
   "source": [
    "np.shape(yR)"
   ]
  },
  {
   "cell_type": "code",
   "execution_count": 62,
   "metadata": {},
   "outputs": [
    {
     "name": "stdout",
     "output_type": "stream",
     "text": [
      "(23, 26, 100) (23, 26, 54)\n",
      "157.348198492 0.00992044517222\n",
      "116.881113214 0.0097839216265\n",
      "114.56800118 0.00874713105312\n",
      "86.5269877318 0.00969334647626\n",
      "61.7830380257 0.00820116916633\n",
      "82.0235709397 0.0077328762006\n",
      "62.3898780149 0.00960776247815\n",
      "27.1354017725 0.00785465514181\n",
      "24.8145085653 0.00684131463034\n",
      "55.7805367867 0.00688630360819\n",
      "44.0249772686 0.00952322325828\n",
      "3.09184069094 0.0076033654142\n",
      "-12.5745276211 0.00617925972977\n",
      "-1.44538075404 0.00574074211295\n",
      "35.3917878186 0.00629335743709\n",
      "31.5384896254 0.00944074436837\n",
      "-12.6394276405 0.00742388646731\n",
      "-36.6815596498 0.00569621980183\n",
      "-38.9465857268 0.00477964739988\n",
      "-19.2800853024 0.00503247383604\n",
      "20.9746157293 0.006056499548\n",
      "25.2074420001 0.00936299195604\n",
      "-20.783083597 0.00730545887161\n",
      "-50.2655150959 0.00538035095379\n",
      "-61.7584493233 0.00402873501336\n",
      "-54.6855560318 0.00388901015165\n",
      "-29.401503555 0.00487308807674\n",
      "12.8227834738 0.00623752712989\n",
      "25.3964428029 0.00929360404806\n",
      "-21.4498154219 0.0072492896631\n",
      "-54.4838385061 0.00523554595802\n",
      "-72.4331098362 0.00356344613757\n",
      "-74.6078236226 0.00296446174797\n",
      "-60.9244060425 0.00383116937208\n",
      "-31.9087083759 0.00531079392484\n",
      "11.3211667727 0.00681314992884\n",
      "1.57471112625 0.00802041973799\n",
      "-42.1592843565 0.00577871109089\n",
      "-70.0725853248 0.00369279614199\n",
      "-81.0904421688 0.00249235578109\n",
      "-74.7894415506 0.00325401898224\n",
      "-51.4117284787 0.0049727905195\n",
      "-11.8557726108 0.00674104151001\n",
      "42.3554040864 0.00830360485465\n",
      "37.8361594108 0.0089955514983\n",
      "-16.5947664204 0.00666837494751\n",
      "-54.9768241242 0.00438501237172\n",
      "-75.8319935927 0.00268857603297\n",
      "-78.3587829929 0.00294456618765\n",
      "-62.460088871 0.00468425037865\n",
      "-28.7469001578 0.00662708248633\n",
      "21.4821253431 0.00839544301153\n",
      "20.7603411205 0.00773098552443\n",
      "-28.1863945488 0.00539477646269\n",
      "-59.4272426373 0.0034454340627\n",
      "-71.7585410439 0.00303086614696\n",
      "-64.7063971343 0.00448676852771\n",
      "-38.541825324 0.00647624331407\n",
      "5.72694174338 0.00839360730369\n",
      "66.403686497 0.0100436688922\n",
      "68.6842958757 0.00884526400835\n",
      "9.42415082604 0.00653685965182\n",
      "-32.357953826 0.00448337231022\n",
      "-55.0621837716 0.00352935237641\n",
      "-57.8130040944 0.00444829333414\n",
      "-40.5047021459 0.0063219085782\n",
      "-3.80301631129 0.00831226028553\n",
      "50.8802567388 0.0101123373821\n",
      "57.000579048 0.00770473028807\n",
      "4.86401314368 0.00562637164594\n",
      "-28.4079863757 0.00432266179668\n",
      "-41.5421409098 0.00462831011695\n",
      "-34.0308551654 0.00621371196009\n",
      "-6.16309565312 0.00818019697094\n",
      "40.9880227328 0.0100777673441\n",
      "105.615676068 0.0116999271014\n",
      "113.617712108 0.00882802848627\n",
      "51.6418497298 0.00678625550521\n",
      "7.94201551899 0.00527706742777\n",
      "-15.7996231688 0.00504202810968\n",
      "-18.6765013964 0.00620559964453\n",
      "-0.576375566333 0.00803498705558\n",
      "37.8060180169 0.0099644314901\n",
      "94.9977981571 0.0117056699716\n",
      "107.245545433 0.00790145456045\n",
      "53.5861390009 0.00629747705858\n",
      "19.3395572643 0.00565403299122\n",
      "5.82207709493 0.00633988126174\n",
      "13.5525509888 0.00792581561547\n",
      "42.2344002415 0.00980520564421\n",
      "90.765362001 0.0116148817077\n",
      "157.280361828 0.0131566453773\n",
      "170.806780748 0.00892909304572\n",
      "107.951781477 0.00731318073325\n",
      "63.6319514546 0.00639918596292\n",
      "39.5504794366 0.00663603411497\n",
      "36.6327994635 0.00789145757356\n",
      "54.9910270885 0.00963791330707\n",
      "93.9196752574 0.0114550456414\n",
      "151.922740066 0.013092944205\n"
     ]
    }
   ],
   "source": [
    "crit=1.e-2\n",
    "mask=np.sum(yR[:,:,:],axis=(0,1))>crit\n",
    "ysel=yR[:,:,mask]\n",
    "print(np.shape(yR),np.shape(ysel))\n",
    "for i in range(0,np.shape(yR)[2]):\n",
    "    print(np.sum(yR[:,:,i]),np.std(yR[:,:,i]))\n",
    "\n",
    "#y=np.array([yR.T,yG.T,yB.T]).T\n",
    "#np.shape(y)"
   ]
  },
  {
   "cell_type": "code",
   "execution_count": 63,
   "metadata": {},
   "outputs": [],
   "source": [
    "ypredrgb=np.einsum(\"cl,jkc->jkl\",rgbvec[mask,:],ysel)"
   ]
  },
  {
   "cell_type": "code",
   "execution_count": 64,
   "metadata": {},
   "outputs": [
    {
     "name": "stderr",
     "output_type": "stream",
     "text": [
      "Clipping input data to the valid range for imshow with RGB data ([0..1] for floats or [0..255] for integers).\n"
     ]
    },
    {
     "data": {
      "text/plain": [
       "<matplotlib.image.AxesImage at 0x7f45143afe80>"
      ]
     },
     "execution_count": 64,
     "metadata": {},
     "output_type": "execute_result"
    },
    {
     "data": {
      "image/png": "[encoded data removed]",
      "text/plain": [
       "<Figure size 432x288 with 1 Axes>"
      ]
     },
     "metadata": {
      "needs_background": "light"
     },
     "output_type": "display_data"
    }
   ],
   "source": [
    "plt.imshow(ypredrgb)"
   ]
  },
  {
   "cell_type": "code",
   "execution_count": 65,
   "metadata": {},
   "outputs": [
    {
     "data": {
      "text/plain": [
       "(23, 26, 3)"
      ]
     },
     "execution_count": 65,
     "metadata": {},
     "output_type": "execute_result"
    }
   ],
   "source": [
    "np.shape(timg)"
   ]
  },
  {
   "cell_type": "markdown",
   "metadata": {},
   "source": [
    "install colour package\n",
    "pip install colour-science"
   ]
  },
  {
   "cell_type": "code",
   "execution_count": 57,
   "metadata": {},
   "outputs": [],
   "source": [
    "import colour \n",
    "from colour.plotting import *\n",
    "import itertools"
   ]
  },
  {
   "cell_type": "code",
   "execution_count": 58,
   "metadata": {},
   "outputs": [],
   "source": [
    "#line = np.linspace(0.0, 1.0, 15, endpoint=True)\n",
    "#rgb = np.array(list(itertools.product(line,line,line)), dtype=np.float)\n"
   ]
  },
  {
   "cell_type": "code",
   "execution_count": 59,
   "metadata": {},
   "outputs": [
    {
     "data": {
      "image/png": "[encoded data removed]",
      "text/plain": [
       "<Figure size 720x360 with 2 Axes>"
      ]
     },
     "metadata": {
      "needs_background": "light"
     },
     "output_type": "display_data"
    }
   ],
   "source": [
    "#XYZからxyへ変換\n",
    "ti=timg.reshape(np.shape(timg)[0]*np.shape(timg)[1],3)\n",
    "XYZ = colour.sRGB_to_XYZ(ti)\n",
    "xy = colour.XYZ_to_xy(XYZ)\n",
    "\n",
    "#CIE_1931_chromaticity_diagram_colours_plot(bounding_box=(-0.1, 0.9, -0.1, 0.9), standalone=False)\n",
    "#plot_chromaticity_diagram_CIE1931(bounding_box=(0.15, 0.65, 0.15, 0.65), standalone=False)\n",
    "#sRGB領域へプロット\n",
    "#plt.plot(xy[:,0], xy[:,1], 'o', markersize=2, label=\"sRGB\",color=\"gray\",alpha=0.2)\n",
    "fig=plt.figure(figsize=(10,5))\n",
    "ax=fig.add_subplot(121,aspect=1.0)\n",
    "ax.scatter(xy[:,0], xy[:,1],facecolors=ti,alpha=1,s=2)\n",
    "ax.set_xlim(0.15,0.62)\n",
    "ax.set_ylim(0.2,0.62)\n",
    "ax.set_title(\"Original\")\n",
    "#plt.legend() \n",
    "\n",
    "yi=rgbvec[mask,:]\n",
    "XYZ = colour.sRGB_to_XYZ(yi)\n",
    "xy = colour.XYZ_to_xy(XYZ)\n",
    "yi[yi>1]=1.0\n",
    "yi[yi<0]=0\n",
    "\n",
    "\n",
    "yic=rgbvec[:,:]\n",
    "XYZc = colour.sRGB_to_XYZ(yic)\n",
    "xyc = colour.XYZ_to_xy(XYZc)\n",
    "yic[yic>1]=1.0\n",
    "yic[yic<0]=0\n",
    "\n",
    "ax=fig.add_subplot(122,aspect=1.0)\n",
    "ax.scatter(xy[:,0], xy[:,1],facecolors=yi,alpha=1,s=20,label=\"Selected\")\n",
    "ax.scatter(xyc[:,0], xyc[:,1],facecolors=yic,alpha=1,s=1,label=\"Pallet color\")\n",
    "plt.legend()\n",
    "ax.set_xlim(0.15,0.62)\n",
    "ax.set_ylim(0.2,0.62)\n",
    "ax.set_title(\"reconstruct\")\n",
    "display(standalone=True)"
   ]
  },
  {
   "cell_type": "code",
   "execution_count": null,
   "metadata": {},
   "outputs": [],
   "source": []
  }
 ],
 "metadata": {
  "jupytext": {
   "text_representation": {
    "extension": ".py",
    "format_name": "light",
    "format_version": "1.3",
    "jupytext_version": "0.8.5"
   }
  },
  "kernelspec": {
   "display_name": "Python 3",
   "language": "python",
   "name": "python3"
  },
  "language_info": {
   "codemirror_mode": {
    "name": "ipython",
    "version": 3
   },
   "file_extension": ".py",
   "mimetype": "text/x-python",
   "name": "python",
   "nbconvert_exporter": "python",
   "pygments_lexer": "ipython3",
   "version": "3.7.3"
  },
  "toc": {
   "colors": {
    "hover_highlight": "#DAA520",
    "navigate_num": "#000000",
    "navigate_text": "#333333",
    "running_highlight": "#FF0000",
    "selected_highlight": "#FFD700",
    "sidebar_border": "#EEEEEE",
    "wrapper_background": "#FFFFFF"
   },
   "moveMenuLeft": true,
   "nav_menu": {
    "height": "11px",
    "width": "251px"
   },
   "navigate_menu": true,
   "number_sections": true,
   "sideBar": true,
   "threshold": 4,
   "toc_cell": false,
   "toc_section_display": "block",
   "toc_window_display": false,
   "widenNotebook": false
  }
 },
 "nbformat": 4,
 "nbformat_minor": 2
}
